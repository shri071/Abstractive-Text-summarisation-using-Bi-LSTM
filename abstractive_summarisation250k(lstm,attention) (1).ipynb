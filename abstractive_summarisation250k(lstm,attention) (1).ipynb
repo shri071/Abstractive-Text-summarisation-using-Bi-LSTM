{
 "cells": [
  {
   "cell_type": "markdown",
   "metadata": {
    "id": "cfjATcTRsYqg"
   },
   "source": [
    "# First we will import the bahdanau attention model from github"
   ]
  },
  {
   "cell_type": "code",
   "execution_count": 2,
   "metadata": {
    "id": "E3EtN2iSqmrY"
   },
   "outputs": [],
   "source": [
    "import tensorflow as tf\n",
    "import os\n",
    "from tensorflow.python.keras.layers import Layer\n",
    "from tensorflow.python.keras import backend as K\n",
    "\n",
    "\n",
    "class AttentionLayer(Layer):\n",
    "    \"\"\"\n",
    "    This class implements Bahdanau attention (https://arxiv.org/pdf/1409.0473.pdf).\n",
    "    There are three sets of weights introduced W_a, U_a, and V_a\n",
    "     \"\"\"\n",
    "\n",
    "    def __init__(self, **kwargs):\n",
    "        super(AttentionLayer, self).__init__(**kwargs)\n",
    "\n",
    "    def build(self, input_shape):\n",
    "        assert isinstance(input_shape, list)\n",
    "        # Create a trainable weight variable for this layer.\n",
    "\n",
    "        self.W_a = self.add_weight(name='W_a',\n",
    "                                   shape=tf.TensorShape((input_shape[0][2], input_shape[0][2])),\n",
    "                                   initializer='uniform',\n",
    "                                   trainable=True)\n",
    "        self.U_a = self.add_weight(name='U_a',\n",
    "                                   shape=tf.TensorShape((input_shape[1][2], input_shape[0][2])),\n",
    "                                   initializer='uniform',\n",
    "                                   trainable=True)\n",
    "        self.V_a = self.add_weight(name='V_a',\n",
    "                                   shape=tf.TensorShape((input_shape[0][2], 1)),\n",
    "                                   initializer='uniform',\n",
    "                                   trainable=True)\n",
    "\n",
    "        super(AttentionLayer, self).build(input_shape)  # Be sure to call this at the end\n",
    "\n",
    "    def call(self, inputs, verbose=False):\n",
    "        \"\"\"\n",
    "        inputs: [encoder_output_sequence, decoder_output_sequence]\n",
    "        \"\"\"\n",
    "        assert type(inputs) == list\n",
    "        encoder_out_seq, decoder_out_seq = inputs\n",
    "        if verbose:\n",
    "            print('encoder_out_seq>', encoder_out_seq.shape)\n",
    "            print('decoder_out_seq>', decoder_out_seq.shape)\n",
    "\n",
    "        def energy_step(inputs, states):\n",
    "            \"\"\" Step function for computing energy for a single decoder state\n",
    "            inputs: (batchsize * 1 * de_in_dim)\n",
    "            states: (batchsize * 1 * de_latent_dim)\n",
    "            \"\"\"\n",
    "\n",
    "            assert_msg = \"States must be an iterable. Got {} of type {}\".format(states, type(states))\n",
    "            assert isinstance(states, list) or isinstance(states, tuple), assert_msg\n",
    "\n",
    "            \"\"\" Some parameters required for shaping tensors\"\"\"\n",
    "            en_seq_len, en_hidden = encoder_out_seq.shape[1], encoder_out_seq.shape[2]\n",
    "            de_hidden = inputs.shape[-1]\n",
    "\n",
    "            \"\"\" Computing S.Wa where S=[s0, s1, ..., si]\"\"\"\n",
    "            # <= batch size * en_seq_len * latent_dim\n",
    "            W_a_dot_s = K.dot(encoder_out_seq, self.W_a)\n",
    "\n",
    "            \"\"\" Computing hj.Ua \"\"\"\n",
    "            U_a_dot_h = K.expand_dims(K.dot(inputs, self.U_a), 1)  # <= batch_size, 1, latent_dim\n",
    "            if verbose:\n",
    "                print('Ua.h>', U_a_dot_h.shape)\n",
    "\n",
    "            \"\"\" tanh(S.Wa + hj.Ua) \"\"\"\n",
    "            # <= batch_size*en_seq_len, latent_dim\n",
    "            Ws_plus_Uh = K.tanh(W_a_dot_s + U_a_dot_h)\n",
    "            if verbose:\n",
    "                print('Ws+Uh>', Ws_plus_Uh.shape)\n",
    "\n",
    "            \"\"\" softmax(va.tanh(S.Wa + hj.Ua)) \"\"\"\n",
    "            # <= batch_size, en_seq_len\n",
    "            e_i = K.squeeze(K.dot(Ws_plus_Uh, self.V_a), axis=-1)\n",
    "            # <= batch_size, en_seq_len\n",
    "            e_i = K.softmax(e_i)\n",
    "\n",
    "            if verbose:\n",
    "                print('ei>', e_i.shape)\n",
    "\n",
    "            return e_i, [e_i]\n",
    "\n",
    "        def context_step(inputs, states):\n",
    "            \"\"\" Step function for computing ci using ei \"\"\"\n",
    "\n",
    "            assert_msg = \"States must be an iterable. Got {} of type {}\".format(states, type(states))\n",
    "            assert isinstance(states, list) or isinstance(states, tuple), assert_msg\n",
    "\n",
    "            # <= batch_size, hidden_size\n",
    "            c_i = K.sum(encoder_out_seq * K.expand_dims(inputs, -1), axis=1)\n",
    "            if verbose:\n",
    "                print('ci>', c_i.shape)\n",
    "            return c_i, [c_i]\n",
    "\n",
    "        fake_state_c = K.sum(encoder_out_seq, axis=1)\n",
    "        fake_state_e = K.sum(encoder_out_seq, axis=2)  # <= (batch_size, enc_seq_len, latent_dim\n",
    "\n",
    "        \"\"\" Computing energy outputs \"\"\"\n",
    "        # e_outputs => (batch_size, de_seq_len, en_seq_len)\n",
    "        last_out, e_outputs, _ = K.rnn(\n",
    "            energy_step, decoder_out_seq, [fake_state_e],\n",
    "        )\n",
    "\n",
    "        \"\"\" Computing context vectors \"\"\"\n",
    "        last_out, c_outputs, _ = K.rnn(\n",
    "            context_step, e_outputs, [fake_state_c],\n",
    "        )\n",
    "\n",
    "        return c_outputs, e_outputs\n",
    "\n",
    "    def compute_output_shape(self, input_shape):\n",
    "        \"\"\" Outputs produced by the layer \"\"\"\n",
    "        return [\n",
    "            tf.TensorShape((input_shape[1][0], input_shape[1][1], input_shape[1][2])),\n",
    "            tf.TensorShape((input_shape[1][0], input_shape[1][1], input_shape[0][1]))\n",
    "        ]"
   ]
  },
  {
   "cell_type": "markdown",
   "metadata": {
    "id": "BL6BmdMxsx0-"
   },
   "source": [
    "# Import all the important libraries required for the project"
   ]
  },
  {
   "cell_type": "code",
   "execution_count": 3,
   "metadata": {
    "id": "Vp7N8fP1rBol"
   },
   "outputs": [],
   "source": [
    "\n",
    "import numpy as np\n",
    "import pandas as pd \n",
    "import re\n",
    "from bs4 import BeautifulSoup\n",
    "from keras.preprocessing.text import Tokenizer \n",
    "from keras.preprocessing.sequence import pad_sequences\n",
    "from nltk.corpus import stopwords\n",
    "from tensorflow.keras.layers import Input, LSTM, Embedding, Dense, Concatenate, TimeDistributed,Bidirectional\n",
    "from tensorflow.keras.models import Model\n",
    "from tensorflow.keras.callbacks import EarlyStopping\n",
    "import warnings\n",
    "pd.set_option(\"display.max_colwidth\", 200)\n",
    "warnings.filterwarnings(\"ignore\")"
   ]
  },
  {
   "cell_type": "markdown",
   "metadata": {
    "id": "sf46LotptA1M"
   },
   "source": [
    "## The Dataset taken is from kaggle amazon fine food dataset.\n",
    "## The link for the kaggle data set:\n",
    " https://www.kaggle.com/snap/amazon-fine-food-reviews\n",
    "### The Dataset contains Reviews and the Summaries. We will build a code wherein we will create our own summary in a way that it resembles very closely to the summary in the dataset and we will examine its the accuracy at output."
   ]
  },
  {
   "cell_type": "code",
   "execution_count": 4,
   "metadata": {
    "colab": {
     "base_uri": "https://localhost:8080/"
    },
    "id": "SxsDK27BrHjx",
    "outputId": "098428f6-3c06-4126-e3dc-e13e99c26c0c"
   },
   "outputs": [
    {
     "name": "stdout",
     "output_type": "stream",
     "text": [
      "Mounted at /content/drive\n"
     ]
    }
   ],
   "source": [
    "from google.colab import drive\n",
    "drive.mount('/content/drive')"
   ]
  },
  {
   "cell_type": "markdown",
   "metadata": {
    "id": "5N-io_t0utL-"
   },
   "source": [
    "The dataset contains over 500,000 reviews and we will only select 250,000."
   ]
  },
  {
   "cell_type": "code",
   "execution_count": 6,
   "metadata": {
    "id": "i_pkEymgrkbZ"
   },
   "outputs": [],
   "source": [
    "data=pd.read_csv('/content/drive/My Drive/dataset/Reviews.csv',nrows=250000)"
   ]
  },
  {
   "cell_type": "markdown",
   "metadata": {
    "id": "PoxQuV-lu5jK"
   },
   "source": [
    "# Description of the dataset"
   ]
  },
  {
   "cell_type": "code",
   "execution_count": 8,
   "metadata": {
    "colab": {
     "base_uri": "https://localhost:8080/"
    },
    "id": "DVuZPiJXsNc_",
    "outputId": "7c0317c9-d333-4ec4-bc66-a202a5a966f4"
   },
   "outputs": [
    {
     "data": {
      "text/plain": [
       "(250000, 10)"
      ]
     },
     "execution_count": 8,
     "metadata": {
      "tags": []
     },
     "output_type": "execute_result"
    }
   ],
   "source": [
    "data.shape"
   ]
  },
  {
   "cell_type": "code",
   "execution_count": null,
   "metadata": {
    "colab": {
     "base_uri": "https://localhost:8080/",
     "height": 380
    },
    "id": "nE21xOhFsT7Z",
    "outputId": "78040bc0-b0c7-4322-fc1f-88f2d94195e6"
   },
   "outputs": [
    {
     "data": {
      "text/html": [
       "<div>\n",
       "<style scoped>\n",
       "    .dataframe tbody tr th:only-of-type {\n",
       "        vertical-align: middle;\n",
       "    }\n",
       "\n",
       "    .dataframe tbody tr th {\n",
       "        vertical-align: top;\n",
       "    }\n",
       "\n",
       "    .dataframe thead th {\n",
       "        text-align: right;\n",
       "    }\n",
       "</style>\n",
       "<table border=\"1\" class=\"dataframe\">\n",
       "  <thead>\n",
       "    <tr style=\"text-align: right;\">\n",
       "      <th></th>\n",
       "      <th>Id</th>\n",
       "      <th>ProductId</th>\n",
       "      <th>UserId</th>\n",
       "      <th>ProfileName</th>\n",
       "      <th>HelpfulnessNumerator</th>\n",
       "      <th>HelpfulnessDenominator</th>\n",
       "      <th>Score</th>\n",
       "      <th>Time</th>\n",
       "      <th>Summary</th>\n",
       "      <th>Text</th>\n",
       "    </tr>\n",
       "  </thead>\n",
       "  <tbody>\n",
       "    <tr>\n",
       "      <th>0</th>\n",
       "      <td>1</td>\n",
       "      <td>B001E4KFG0</td>\n",
       "      <td>A3SGXH7AUHU8GW</td>\n",
       "      <td>delmartian</td>\n",
       "      <td>1</td>\n",
       "      <td>1</td>\n",
       "      <td>5</td>\n",
       "      <td>1303862400</td>\n",
       "      <td>Good Quality Dog Food</td>\n",
       "      <td>I have bought several of the Vitality canned dog food products and have found them all to be of good quality. The product looks more like a stew than a processed meat and it smells better. My Labr...</td>\n",
       "    </tr>\n",
       "    <tr>\n",
       "      <th>1</th>\n",
       "      <td>2</td>\n",
       "      <td>B00813GRG4</td>\n",
       "      <td>A1D87F6ZCVE5NK</td>\n",
       "      <td>dll pa</td>\n",
       "      <td>0</td>\n",
       "      <td>0</td>\n",
       "      <td>1</td>\n",
       "      <td>1346976000</td>\n",
       "      <td>Not as Advertised</td>\n",
       "      <td>Product arrived labeled as Jumbo Salted Peanuts...the peanuts were actually small sized unsalted. Not sure if this was an error or if the vendor intended to represent the product as \"Jumbo\".</td>\n",
       "    </tr>\n",
       "    <tr>\n",
       "      <th>2</th>\n",
       "      <td>3</td>\n",
       "      <td>B000LQOCH0</td>\n",
       "      <td>ABXLMWJIXXAIN</td>\n",
       "      <td>Natalia Corres \"Natalia Corres\"</td>\n",
       "      <td>1</td>\n",
       "      <td>1</td>\n",
       "      <td>4</td>\n",
       "      <td>1219017600</td>\n",
       "      <td>\"Delight\" says it all</td>\n",
       "      <td>This is a confection that has been around a few centuries.  It is a light, pillowy citrus gelatin with nuts - in this case Filberts. And it is cut into tiny squares and then liberally coated with ...</td>\n",
       "    </tr>\n",
       "    <tr>\n",
       "      <th>3</th>\n",
       "      <td>4</td>\n",
       "      <td>B000UA0QIQ</td>\n",
       "      <td>A395BORC6FGVXV</td>\n",
       "      <td>Karl</td>\n",
       "      <td>3</td>\n",
       "      <td>3</td>\n",
       "      <td>2</td>\n",
       "      <td>1307923200</td>\n",
       "      <td>Cough Medicine</td>\n",
       "      <td>If you are looking for the secret ingredient in Robitussin I believe I have found it.  I got this in addition to the Root Beer Extract I ordered (which was good) and made some cherry soda.  The fl...</td>\n",
       "    </tr>\n",
       "    <tr>\n",
       "      <th>4</th>\n",
       "      <td>5</td>\n",
       "      <td>B006K2ZZ7K</td>\n",
       "      <td>A1UQRSCLF8GW1T</td>\n",
       "      <td>Michael D. Bigham \"M. Wassir\"</td>\n",
       "      <td>0</td>\n",
       "      <td>0</td>\n",
       "      <td>5</td>\n",
       "      <td>1350777600</td>\n",
       "      <td>Great taffy</td>\n",
       "      <td>Great taffy at a great price.  There was a wide assortment of yummy taffy.  Delivery was very quick.  If your a taffy lover, this is a deal.</td>\n",
       "    </tr>\n",
       "  </tbody>\n",
       "</table>\n",
       "</div>"
      ],
      "text/plain": [
       "   Id  ...                                                                                                                                                                                                     Text\n",
       "0   1  ...  I have bought several of the Vitality canned dog food products and have found them all to be of good quality. The product looks more like a stew than a processed meat and it smells better. My Labr...\n",
       "1   2  ...           Product arrived labeled as Jumbo Salted Peanuts...the peanuts were actually small sized unsalted. Not sure if this was an error or if the vendor intended to represent the product as \"Jumbo\".\n",
       "2   3  ...  This is a confection that has been around a few centuries.  It is a light, pillowy citrus gelatin with nuts - in this case Filberts. And it is cut into tiny squares and then liberally coated with ...\n",
       "3   4  ...  If you are looking for the secret ingredient in Robitussin I believe I have found it.  I got this in addition to the Root Beer Extract I ordered (which was good) and made some cherry soda.  The fl...\n",
       "4   5  ...                                                             Great taffy at a great price.  There was a wide assortment of yummy taffy.  Delivery was very quick.  If your a taffy lover, this is a deal.\n",
       "\n",
       "[5 rows x 10 columns]"
      ]
     },
     "execution_count": 44,
     "metadata": {
      "tags": []
     },
     "output_type": "execute_result"
    }
   ],
   "source": [
    "data.head()"
   ]
  },
  {
   "cell_type": "markdown",
   "metadata": {
    "id": "0h7zWwsCvhI8"
   },
   "source": [
    "# Cleaning and Preprocessing the data"
   ]
  },
  {
   "cell_type": "markdown",
   "metadata": {
    "id": "iHX9SQ5yvw29"
   },
   "source": [
    "Performing basic preprocessing steps is very important before we get to the model building part. Using messy and uncleaned text data is a potentially disastrous move. So in this step, we will drop all the unwanted symbols, characters, etc. from the text that do not affect the objective of our problem.\n",
    "\n",
    "Here is the dictionary that we will use for expanding the contractions:"
   ]
  },
  {
   "cell_type": "code",
   "execution_count": 9,
   "metadata": {
    "id": "4cX8J5HKvntt"
   },
   "outputs": [],
   "source": [
    "contraction_mapping = {\"ain't\": \"is not\", \"aren't\": \"are not\",\"can't\": \"cannot\", \"'cause\": \"because\", \"could've\": \"could have\", \"couldn't\": \"could not\",\n",
    "                           \"didn't\": \"did not\",  \"doesn't\": \"does not\", \"don't\": \"do not\", \"hadn't\": \"had not\", \"hasn't\": \"has not\", \"haven't\": \"have not\",\n",
    "                           \"he'd\": \"he would\",\"he'll\": \"he will\", \"he's\": \"he is\", \"how'd\": \"how did\", \"how'd'y\": \"how do you\", \"how'll\": \"how will\", \"how's\": \"how is\",\n",
    "                           \"I'd\": \"I would\", \"I'd've\": \"I would have\", \"I'll\": \"I will\", \"I'll've\": \"I will have\",\"I'm\": \"I am\", \"I've\": \"I have\", \"i'd\": \"i would\",\n",
    "                           \"i'd've\": \"i would have\", \"i'll\": \"i will\",  \"i'll've\": \"i will have\",\"i'm\": \"i am\", \"i've\": \"i have\", \"isn't\": \"is not\", \"it'd\": \"it would\",\n",
    "                           \"it'd've\": \"it would have\", \"it'll\": \"it will\", \"it'll've\": \"it will have\",\"it's\": \"it is\", \"let's\": \"let us\", \"ma'am\": \"madam\",\n",
    "                           \"mayn't\": \"may not\", \"might've\": \"might have\",\"mightn't\": \"might not\",\"mightn't've\": \"might not have\", \"must've\": \"must have\",\n",
    "                           \"mustn't\": \"must not\", \"mustn't've\": \"must not have\", \"needn't\": \"need not\", \"needn't've\": \"need not have\",\"o'clock\": \"of the clock\",\n",
    "                           \"oughtn't\": \"ought not\", \"oughtn't've\": \"ought not have\", \"shan't\": \"shall not\", \"sha'n't\": \"shall not\", \"shan't've\": \"shall not have\",\n",
    "                           \"she'd\": \"she would\", \"she'd've\": \"she would have\", \"she'll\": \"she will\", \"she'll've\": \"she will have\", \"she's\": \"she is\",\n",
    "                           \"should've\": \"should have\", \"shouldn't\": \"should not\", \"shouldn't've\": \"should not have\", \"so've\": \"so have\",\"so's\": \"so as\",\n",
    "                           \"this's\": \"this is\",\"that'd\": \"that would\", \"that'd've\": \"that would have\", \"that's\": \"that is\", \"there'd\": \"there would\",\n",
    "                           \"there'd've\": \"there would have\", \"there's\": \"there is\", \"here's\": \"here is\",\"they'd\": \"they would\", \"they'd've\": \"they would have\",\n",
    "                           \"they'll\": \"they will\", \"they'll've\": \"they will have\", \"they're\": \"they are\", \"they've\": \"they have\", \"to've\": \"to have\",\n",
    "                           \"wasn't\": \"was not\", \"we'd\": \"we would\", \"we'd've\": \"we would have\", \"we'll\": \"we will\", \"we'll've\": \"we will have\", \"we're\": \"we are\",\n",
    "                           \"we've\": \"we have\", \"weren't\": \"were not\", \"what'll\": \"what will\", \"what'll've\": \"what will have\", \"what're\": \"what are\",\n",
    "                           \"what's\": \"what is\", \"what've\": \"what have\", \"when's\": \"when is\", \"when've\": \"when have\", \"where'd\": \"where did\", \"where's\": \"where is\",\n",
    "                           \"where've\": \"where have\", \"who'll\": \"who will\", \"who'll've\": \"who will have\", \"who's\": \"who is\", \"who've\": \"who have\",\n",
    "                           \"why's\": \"why is\", \"why've\": \"why have\", \"will've\": \"will have\", \"won't\": \"will not\", \"won't've\": \"will not have\",\n",
    "                           \"would've\": \"would have\", \"wouldn't\": \"would not\", \"wouldn't've\": \"would not have\", \"y'all\": \"you all\",\n",
    "                           \"y'all'd\": \"you all would\",\"y'all'd've\": \"you all would have\",\"y'all're\": \"you all are\",\"y'all've\": \"you all have\",\n",
    "                           \"you'd\": \"you would\", \"you'd've\": \"you would have\", \"you'll\": \"you will\", \"you'll've\": \"you will have\",\n",
    "                           \"you're\": \"you are\", \"you've\": \"you have\"}"
   ]
  },
  {
   "cell_type": "markdown",
   "metadata": {
    "id": "6AOQjpfav9FN"
   },
   "source": [
    "We will perform the below preprocessing tasks for our data:\n",
    "\n",
    "1.Convert everything to lowercase\n",
    "\n",
    "2.Remove HTML tags\n",
    "\n",
    "3.Contraction mapping\n",
    "\n",
    "4.Remove (‘s)\n",
    "\n",
    "5.Remove any text inside the parenthesis ( )\n",
    "\n",
    "6.Eliminate punctuations and special characters\n",
    "\n",
    "7.Remove stopwords\n",
    "\n",
    "8.Remove short words\n",
    "\n",
    "Let’s define the function:"
   ]
  },
  {
   "cell_type": "code",
   "execution_count": 10,
   "metadata": {
    "colab": {
     "base_uri": "https://localhost:8080/"
    },
    "id": "99jQeRvXv_lD",
    "outputId": "c364ba3d-1af4-48c6-c3e1-7eaa4a0af1be"
   },
   "outputs": [
    {
     "name": "stdout",
     "output_type": "stream",
     "text": [
      "[nltk_data] Downloading package stopwords to /root/nltk_data...\n",
      "[nltk_data]   Unzipping corpora/stopwords.zip.\n"
     ]
    }
   ],
   "source": [
    "import nltk\n",
    "nltk.download('stopwords')\n",
    "stop_words = set(stopwords.words('english')) \n",
    "\n",
    "\n",
    "def text_cleaner(text,num):\n",
    "    newString = text.lower()\n",
    "    newString = BeautifulSoup(newString, \"lxml\").text\n",
    "    newString = re.sub(r'\\([^)]*\\)', '', newString)\n",
    "    newString = re.sub('\"','', newString)\n",
    "    newString = ' '.join([contraction_mapping[t] if t in contraction_mapping else t for t in newString.split(\" \")])    \n",
    "    newString = re.sub(r\"'s\\b\",\"\",newString)\n",
    "    newString = re.sub(\"[^a-zA-Z]\", \" \", newString) \n",
    "    newString = re.sub('[m]{2,}', 'mm', newString)\n",
    "    if(num==0):\n",
    "        tokens = [w for w in newString.split() if not w in stop_words]\n",
    "    else:\n",
    "        tokens=newString.split()\n",
    "    long_words=[]\n",
    "    for i in tokens:\n",
    "        if len(i)>1:                                                 #removing short word\n",
    "            long_words.append(i)   \n",
    "    return (\" \".join(long_words)).strip()"
   ]
  },
  {
   "cell_type": "code",
   "execution_count": 11,
   "metadata": {
    "id": "ICAJYCqJ4Nwl"
   },
   "outputs": [],
   "source": [
    "data['Summary']=data['Summary'].apply(str)"
   ]
  },
  {
   "cell_type": "code",
   "execution_count": 12,
   "metadata": {
    "id": "PxCb8ofrwMyy"
   },
   "outputs": [],
   "source": [
    "#call the function\n",
    "cleaned_text = []\n",
    "for t in data['Text']:\n",
    "    cleaned_text.append(text_cleaner(t,0))"
   ]
  },
  {
   "cell_type": "markdown",
   "metadata": {
    "id": "wexiUkhVwZ3K"
   },
   "source": [
    "Preview of cleaned dataset"
   ]
  },
  {
   "cell_type": "code",
   "execution_count": 13,
   "metadata": {
    "colab": {
     "base_uri": "https://localhost:8080/"
    },
    "id": "aL7fPZcGwZXG",
    "outputId": "cd767f88-144b-43e8-be08-6fa2f8de56b7"
   },
   "outputs": [
    {
     "data": {
      "text/plain": [
       "['bought several vitality canned dog food products found good quality product looks like stew processed meat smells better labrador finicky appreciates product better',\n",
       " 'product arrived labeled jumbo salted peanuts peanuts actually small sized unsalted sure error vendor intended represent product jumbo',\n",
       " 'confection around centuries light pillowy citrus gelatin nuts case filberts cut tiny squares liberally coated powdered sugar tiny mouthful heaven chewy flavorful highly recommend yummy treat familiar story lewis lion witch wardrobe treat seduces edmund selling brother sisters witch',\n",
       " 'looking secret ingredient robitussin believe found got addition root beer extract ordered made cherry soda flavor medicinal',\n",
       " 'great taffy great price wide assortment yummy taffy delivery quick taffy lover deal']"
      ]
     },
     "execution_count": 13,
     "metadata": {
      "tags": []
     },
     "output_type": "execute_result"
    }
   ],
   "source": [
    "cleaned_text[:5]"
   ]
  },
  {
   "cell_type": "code",
   "execution_count": 14,
   "metadata": {
    "id": "YqkevcQm0DSh"
   },
   "outputs": [],
   "source": [
    "\n",
    "#call the function\n",
    "cleaned_summary = []\n",
    "for t in data['Summary']:\n",
    "    cleaned_summary.append(text_cleaner(t,1))"
   ]
  },
  {
   "cell_type": "code",
   "execution_count": 15,
   "metadata": {
    "colab": {
     "base_uri": "https://localhost:8080/"
    },
    "id": "y1ZWX6cZ6mQ2",
    "outputId": "3598a5f9-31bb-4f73-91d7-6267ca55f5ca"
   },
   "outputs": [
    {
     "data": {
      "text/plain": [
       "['good quality dog food',\n",
       " 'not as advertised',\n",
       " 'delight says it all',\n",
       " 'cough medicine',\n",
       " 'great taffy',\n",
       " 'nice taffy',\n",
       " 'great just as good as the expensive brands',\n",
       " 'wonderful tasty taffy',\n",
       " 'yay barley',\n",
       " 'healthy dog food']"
      ]
     },
     "execution_count": 15,
     "metadata": {
      "tags": []
     },
     "output_type": "execute_result"
    }
   ],
   "source": [
    "cleaned_summary[:10]"
   ]
  },
  {
   "cell_type": "code",
   "execution_count": 16,
   "metadata": {
    "id": "NNMVbIqj6oo3"
   },
   "outputs": [],
   "source": [
    "\n",
    "data['cleaned_text']=cleaned_text\n",
    "data['cleaned_summary']=cleaned_summary"
   ]
  },
  {
   "cell_type": "code",
   "execution_count": 17,
   "metadata": {
    "id": "ShtlI3u26q9G"
   },
   "outputs": [],
   "source": [
    "data.replace('', np.nan, inplace=True)\n",
    "data.dropna(axis=0,inplace=True)"
   ]
  },
  {
   "cell_type": "markdown",
   "metadata": {
    "id": "j1xIqWVc4xHm"
   },
   "source": [
    "# Understanding the distribution of the sequences\n",
    "Here, we will analyze the length of the reviews and the summary to get an overall idea about the distribution of length of the text. This will help us fix the maximum length of the sequence:"
   ]
  },
  {
   "cell_type": "code",
   "execution_count": 18,
   "metadata": {
    "colab": {
     "base_uri": "https://localhost:8080/",
     "height": 281
    },
    "id": "SskMbkBZwgj7",
    "outputId": "b78482f7-741c-4329-a901-63518a489323"
   },
   "outputs": [
    {
     "data": {
      "image/png": "[encoded data removed]",
      "text/plain": [
       "<Figure size 432x288 with 2 Axes>"
      ]
     },
     "metadata": {
      "needs_background": "light",
      "tags": []
     },
     "output_type": "display_data"
    }
   ],
   "source": [
    "import matplotlib.pyplot as plt\n",
    "\n",
    "text_word_count = []\n",
    "summary_word_count = []\n",
    "\n",
    "# populate the lists with sentence lengths\n",
    "for i in data['cleaned_text']:\n",
    "      text_word_count.append(len(i.split()))\n",
    "\n",
    "for i in data['cleaned_summary']:\n",
    "      summary_word_count.append(len(i.split()))\n",
    "\n",
    "length_df = pd.DataFrame({'text':text_word_count, 'summary':summary_word_count})\n",
    "\n",
    "length_df.hist(bins = 30)\n",
    "plt.show()"
   ]
  },
  {
   "cell_type": "markdown",
   "metadata": {
    "id": "lI84UW9o5JoE"
   },
   "source": [
    "We can fix the maximum length of the summary to 8 since that seems to be the majority summary length.\n",
    "Let us understand the proportion of the length of summaries below 8"
   ]
  },
  {
   "cell_type": "code",
   "execution_count": 25,
   "metadata": {
    "colab": {
     "base_uri": "https://localhost:8080/"
    },
    "id": "BKsI-LZZ1CiV",
    "outputId": "4fd5abb0-60c5-4b07-c11c-39f090211fce"
   },
   "outputs": [
    {
     "name": "stdout",
     "output_type": "stream",
     "text": [
      "0.9995836502662236\n"
     ]
    }
   ],
   "source": [
    "\n",
    "cnt=0\n",
    "for i in data['cleaned_summary']:\n",
    "    if(len(i.split())<=20):\n",
    "        cnt=cnt+1\n",
    "print(cnt/len(data['cleaned_summary']))\n"
   ]
  },
  {
   "cell_type": "markdown",
   "metadata": {
    "id": "C_E65PxN5U_6"
   },
   "source": [
    "We observe that 99% of the summaries have length below 20. So, we can fix maximum length of summary to 20.\n",
    "\n",
    "Let us fix the maximum length of review to 30"
   ]
  },
  {
   "cell_type": "code",
   "execution_count": 26,
   "metadata": {
    "id": "WMwRObAk5WB4"
   },
   "outputs": [],
   "source": [
    "\n",
    "max_text_len=35\n",
    "max_summary_len=20"
   ]
  },
  {
   "cell_type": "markdown",
   "metadata": {
    "id": "o2HV1YR35csy"
   },
   "source": [
    "\n",
    "Let us select the reviews and summaries whose length falls below or equal to max_text_len and max_summary_len"
   ]
  },
  {
   "cell_type": "code",
   "execution_count": 27,
   "metadata": {
    "id": "Rmb_wtKa5dW4"
   },
   "outputs": [],
   "source": [
    "cleaned_text =np.array(data['cleaned_text'])\n",
    "cleaned_summary=np.array(data['cleaned_summary'])\n",
    "\n",
    "short_text=[]\n",
    "short_summary=[]\n",
    "\n",
    "for i in range(len(cleaned_text)):\n",
    "    if(len(cleaned_summary[i].split())<=max_summary_len and len(cleaned_text[i].split())<=max_text_len):\n",
    "        short_text.append(cleaned_text[i])\n",
    "        short_summary.append(cleaned_summary[i])\n",
    "        \n",
    "df=pd.DataFrame({'text':short_text,'summary':short_summary})"
   ]
  },
  {
   "cell_type": "markdown",
   "metadata": {
    "id": "PVJzbNu45kRf"
   },
   "source": [
    "\n",
    "Remember to add the START and END special tokens at the beginning and end of the summary. Here, I have chosen sostok and eostok as START and END tokens\n",
    "\n",
    "Note: Be sure that the chosen special tokens never appear in the summary"
   ]
  },
  {
   "cell_type": "code",
   "execution_count": 28,
   "metadata": {
    "id": "KGJ0jedN5l2d"
   },
   "outputs": [],
   "source": [
    "df['summary'] = df['summary'].apply(lambda x : 'sostok '+ x + ' eostok')"
   ]
  },
  {
   "cell_type": "markdown",
   "metadata": {
    "id": "cKkwNiBH6zgc"
   },
   "source": [
    "\n",
    "We are getting closer to the model building part. Before that, we need to split our dataset into a training and validation set. We’ll use 90% of the dataset as the training data and evaluate the performance on the remaining 10% (holdout set):"
   ]
  },
  {
   "cell_type": "code",
   "execution_count": 29,
   "metadata": {
    "id": "O4nrL03H61zg"
   },
   "outputs": [],
   "source": [
    "from sklearn.model_selection import train_test_split\n",
    "x_tr,x_val,y_tr,y_val=train_test_split(np.array(df['text']),np.array(df['summary']),test_size=0.1,random_state=0,shuffle=True)"
   ]
  },
  {
   "cell_type": "markdown",
   "metadata": {
    "id": "7oIHmBa-659L"
   },
   "source": [
    "# Preparing the Tokenizer\n",
    "A tokenizer builds the vocabulary and converts a word sequence to an integer sequence. Go ahead and build tokenizers for text and summary:\n",
    "\n",
    "# Text Tokenizer"
   ]
  },
  {
   "cell_type": "code",
   "execution_count": 30,
   "metadata": {
    "id": "LwCV-9pl69me"
   },
   "outputs": [],
   "source": [
    "from keras.preprocessing.text import Tokenizer \n",
    "from keras.preprocessing.sequence import pad_sequences\n",
    "\n",
    "#prepare a tokenizer for reviews on training data\n",
    "x_tokenizer = Tokenizer() \n",
    "x_tokenizer.fit_on_texts(list(x_tr))"
   ]
  },
  {
   "cell_type": "markdown",
   "metadata": {
    "id": "3nNLSMD97CjN"
   },
   "source": [
    "\n",
    "Rarewords and its Coverage\n",
    "Let us look at the proportion rare words and its total coverage in the entire text\n",
    "\n",
    "Here, I am defining the threshold to be 4 which means word whose count is below 4 is considered as a rare word"
   ]
  },
  {
   "cell_type": "code",
   "execution_count": 31,
   "metadata": {
    "colab": {
     "base_uri": "https://localhost:8080/"
    },
    "id": "T_Gh3ZnT7DTJ",
    "outputId": "45fb157c-9ec3-4e93-e369-82ed97ec5acf"
   },
   "outputs": [
    {
     "name": "stdout",
     "output_type": "stream",
     "text": [
      "% of rare words in vocabulary: 62.9958582604694\n",
      "Total Coverage of rare words: 1.3927535681449947\n"
     ]
    }
   ],
   "source": [
    "thresh=4\n",
    "\n",
    "cnt=0\n",
    "tot_cnt=0\n",
    "freq=0\n",
    "tot_freq=0\n",
    "\n",
    "for key,value in x_tokenizer.word_counts.items():\n",
    "    tot_cnt=tot_cnt+1\n",
    "    tot_freq=tot_freq+value\n",
    "    if(value<thresh):\n",
    "        cnt=cnt+1\n",
    "        freq=freq+value\n",
    "    \n",
    "print(\"% of rare words in vocabulary:\",(cnt/tot_cnt)*100)\n",
    "print(\"Total Coverage of rare words:\",(freq/tot_freq)*100)"
   ]
  },
  {
   "cell_type": "markdown",
   "metadata": {
    "id": "GdLeUg5A7Jnq"
   },
   "source": [
    "Remember:\n",
    "\n",
    "tot_cnt gives the size of vocabulary (which means every unique words in the text)\n",
    "\n",
    "cnt gives me the no. of rare words whose count falls below threshold\n",
    "\n",
    "tot_cnt - cnt gives me the top most common words\n",
    "\n",
    "Let us define the tokenizer with top most common words for reviews."
   ]
  },
  {
   "cell_type": "code",
   "execution_count": 32,
   "metadata": {
    "id": "X7wpSf327NAO"
   },
   "outputs": [],
   "source": [
    "#prepare a tokenizer for reviews on training data\n",
    "x_tokenizer = Tokenizer(num_words=tot_cnt-cnt) \n",
    "x_tokenizer.fit_on_texts(list(x_tr))\n",
    "\n",
    "#convert text sequences into integer sequences\n",
    "x_tr_seq    =   x_tokenizer.texts_to_sequences(x_tr) \n",
    "x_val_seq   =   x_tokenizer.texts_to_sequences(x_val)\n",
    "\n",
    "#padding zero upto maximum length\n",
    "x_tr    =   pad_sequences(x_tr_seq,  maxlen=max_text_len, padding='post')\n",
    "x_val   =   pad_sequences(x_val_seq, maxlen=max_text_len, padding='post')\n",
    "\n",
    "#size of vocabulary ( +1 for padding token)\n",
    "x_voc   =  x_tokenizer.num_words + 1"
   ]
  },
  {
   "cell_type": "code",
   "execution_count": 33,
   "metadata": {
    "colab": {
     "base_uri": "https://localhost:8080/"
    },
    "id": "vcDM97_a7Pnn",
    "outputId": "92366bbf-3369-4264-9e20-abdf2afa61fb"
   },
   "outputs": [
    {
     "data": {
      "text/plain": [
       "16083"
      ]
     },
     "execution_count": 33,
     "metadata": {
      "tags": []
     },
     "output_type": "execute_result"
    }
   ],
   "source": [
    "\n",
    "x_voc"
   ]
  },
  {
   "cell_type": "markdown",
   "metadata": {
    "id": "zjSRArKP7V70"
   },
   "source": [
    "# Summary Tokenizer"
   ]
  },
  {
   "cell_type": "code",
   "execution_count": 34,
   "metadata": {
    "id": "ey8zFN7c7URW"
   },
   "outputs": [],
   "source": [
    "#prepare a tokenizer for reviews on training data\n",
    "y_tokenizer = Tokenizer()   \n",
    "y_tokenizer.fit_on_texts(list(y_tr))"
   ]
  },
  {
   "cell_type": "markdown",
   "metadata": {
    "id": "VSWzppl57p0T"
   },
   "source": [
    "\n",
    "# Rarewords and its Coverage\n",
    "Let us look at the proportion rare words and its total coverage in the entire summary\n",
    "\n",
    "Here, I am defining the threshold to be 6 which means word whose count is below 6 is considered as a rare word"
   ]
  },
  {
   "cell_type": "code",
   "execution_count": 35,
   "metadata": {
    "colab": {
     "base_uri": "https://localhost:8080/"
    },
    "id": "F1xvUCom7lgG",
    "outputId": "f0a878dd-d4b6-4b77-873b-c24a04233b5a"
   },
   "outputs": [
    {
     "name": "stdout",
     "output_type": "stream",
     "text": [
      "% of rare words in vocabulary: 73.28088217073473\n",
      "Total Coverage of rare words: 2.699530516431925\n"
     ]
    }
   ],
   "source": [
    "thresh=6\n",
    "\n",
    "cnt=0\n",
    "tot_cnt=0\n",
    "freq=0\n",
    "tot_freq=0\n",
    "\n",
    "for key,value in y_tokenizer.word_counts.items():\n",
    "    tot_cnt=tot_cnt+1\n",
    "    tot_freq=tot_freq+value\n",
    "    if(value<thresh):\n",
    "        cnt=cnt+1\n",
    "        freq=freq+value\n",
    "    \n",
    "print(\"% of rare words in vocabulary:\",(cnt/tot_cnt)*100)\n",
    "print(\"Total Coverage of rare words:\",(freq/tot_freq)*100)"
   ]
  },
  {
   "cell_type": "markdown",
   "metadata": {
    "id": "W6MvsVp_7xtn"
   },
   "source": [
    "\n",
    "Let us define the tokenizer with top most common words for summary."
   ]
  },
  {
   "cell_type": "code",
   "execution_count": 36,
   "metadata": {
    "id": "mylxWx_m7ynA"
   },
   "outputs": [],
   "source": [
    "#prepare a tokenizer for reviews on training data\n",
    "y_tokenizer = Tokenizer(num_words=tot_cnt-cnt) \n",
    "y_tokenizer.fit_on_texts(list(y_tr))\n",
    "\n",
    "#convert text sequences into integer sequences\n",
    "y_tr_seq    =   y_tokenizer.texts_to_sequences(y_tr) \n",
    "y_val_seq   =   y_tokenizer.texts_to_sequences(y_val) \n",
    "\n",
    "#padding zero upto maximum length\n",
    "y_tr    =   pad_sequences(y_tr_seq, maxlen=max_summary_len, padding='post')\n",
    "y_val   =   pad_sequences(y_val_seq, maxlen=max_summary_len, padding='post')\n",
    "\n",
    "#size of vocabulary\n",
    "y_voc  =   y_tokenizer.num_words +1"
   ]
  },
  {
   "cell_type": "markdown",
   "metadata": {
    "id": "a2C4LU-F73Dc"
   },
   "source": [
    "Let us check whether word count of start token is equal to length of the training data"
   ]
  },
  {
   "cell_type": "code",
   "execution_count": 37,
   "metadata": {
    "colab": {
     "base_uri": "https://localhost:8080/"
    },
    "id": "r6UlVx2j73li",
    "outputId": "3d98c478-b5f7-42ff-e3b5-6ffca052eac0"
   },
   "outputs": [
    {
     "data": {
      "text/plain": [
       "(140674, 140674)"
      ]
     },
     "execution_count": 37,
     "metadata": {
      "tags": []
     },
     "output_type": "execute_result"
    }
   ],
   "source": [
    "y_tokenizer.word_counts['sostok'],len(y_tr)"
   ]
  },
  {
   "cell_type": "markdown",
   "metadata": {
    "id": "ZSAeXR3v78HC"
   },
   "source": [
    "Here, I am deleting the rows that contain only START and END tokens"
   ]
  },
  {
   "cell_type": "code",
   "execution_count": 40,
   "metadata": {
    "id": "AFAUID_W78vW"
   },
   "outputs": [],
   "source": [
    "ind=[]\n",
    "for i in range(len(y_tr)):\n",
    "    cnt=0\n",
    "    for j in y_tr[i]:\n",
    "        if j!=0:\n",
    "            cnt=cnt+1\n",
    "    if(cnt==2):\n",
    "        ind.append(i)\n",
    "\n",
    "y_tr=np.delete(y_tr,ind, axis=0)\n",
    "x_tr=np.delete(x_tr,ind, axis=0)"
   ]
  },
  {
   "cell_type": "code",
   "execution_count": 41,
   "metadata": {
    "id": "tiyMuVP97_Ee"
   },
   "outputs": [],
   "source": [
    "ind=[]\n",
    "for i in range(len(y_val)):\n",
    "    cnt=0\n",
    "    for j in y_val[i]:\n",
    "        if j!=0:\n",
    "            cnt=cnt+1\n",
    "    if(cnt==2):\n",
    "        ind.append(i)\n",
    "\n",
    "y_val=np.delete(y_val,ind, axis=0)\n",
    "x_val=np.delete(x_val,ind, axis=0)"
   ]
  },
  {
   "cell_type": "markdown",
   "metadata": {
    "id": "GXXHebB68BiC"
   },
   "source": [
    "\n",
    "# Model building\n",
    "We are finally at the model building part. But before we do that, we need to familiarize ourselves with a few terms which are required prior to building the model.\n",
    "\n",
    "### **Return Sequences** = True: When the return sequences parameter is set to True, LSTM produces the hidden state and cell state for every timestep\n",
    "\n",
    "### **Return State** = True: When return state = True, LSTM produces the hidden state and cell state of the last timestep only\n",
    "\n",
    "### **Initial State**: This is used to initialize the internal states of the LSTM for the first timestep\n",
    "\n",
    "Stacked LSTM: Stacked LSTM has multiple layers of LSTM stacked on top of each other. This leads to a better representation of the sequence.\n",
    "\n",
    "Here, we are building a 3 stacked LSTM for the encoder:"
   ]
  },
  {
   "cell_type": "code",
   "execution_count": 50,
   "metadata": {
    "colab": {
     "base_uri": "https://localhost:8080/"
    },
    "id": "DBTM94rK8UrI",
    "outputId": "32dea27c-399e-4b5d-fe7b-86c14202c20a"
   },
   "outputs": [
    {
     "name": "stdout",
     "output_type": "stream",
     "text": [
      "WARNING:tensorflow:Layer lstm will not use cuDNN kernel since it doesn't meet the cuDNN kernel criteria. It will use generic GPU kernel as fallback when running on GPU\n",
      "WARNING:tensorflow:Layer lstm_1 will not use cuDNN kernel since it doesn't meet the cuDNN kernel criteria. It will use generic GPU kernel as fallback when running on GPU\n",
      "WARNING:tensorflow:Layer lstm_2 will not use cuDNN kernel since it doesn't meet the cuDNN kernel criteria. It will use generic GPU kernel as fallback when running on GPU\n",
      "WARNING:tensorflow:Layer lstm_3 will not use cuDNN kernel since it doesn't meet the cuDNN kernel criteria. It will use generic GPU kernel as fallback when running on GPU\n",
      "Model: \"model\"\n",
      "__________________________________________________________________________________________________\n",
      "Layer (type)                    Output Shape         Param #     Connected to                     \n",
      "==================================================================================================\n",
      "input_1 (InputLayer)            [(None, 35)]         0                                            \n",
      "__________________________________________________________________________________________________\n",
      "embedding (Embedding)           (None, 35, 100)      1608300     input_1[0][0]                    \n",
      "__________________________________________________________________________________________________\n",
      "lstm (LSTM)                     [(None, 35, 300), (N 481200      embedding[0][0]                  \n",
      "__________________________________________________________________________________________________\n",
      "input_2 (InputLayer)            [(None, None)]       0                                            \n",
      "__________________________________________________________________________________________________\n",
      "lstm_1 (LSTM)                   [(None, 35, 300), (N 721200      lstm[0][0]                       \n",
      "__________________________________________________________________________________________________\n",
      "embedding_1 (Embedding)         (None, None, 100)    431400      input_2[0][0]                    \n",
      "__________________________________________________________________________________________________\n",
      "lstm_2 (LSTM)                   [(None, 35, 300), (N 721200      lstm_1[0][0]                     \n",
      "__________________________________________________________________________________________________\n",
      "lstm_3 (LSTM)                   [(None, None, 300),  481200      embedding_1[0][0]                \n",
      "                                                                 lstm_2[0][1]                     \n",
      "                                                                 lstm_2[0][2]                     \n",
      "__________________________________________________________________________________________________\n",
      "attention_layer (AttentionLayer ((None, None, 300),  180300      lstm_2[0][0]                     \n",
      "                                                                 lstm_3[0][0]                     \n",
      "__________________________________________________________________________________________________\n",
      "concat_layer (Concatenate)      (None, None, 600)    0           lstm_3[0][0]                     \n",
      "                                                                 attention_layer[0][0]            \n",
      "__________________________________________________________________________________________________\n",
      "time_distributed (TimeDistribut (None, None, 4314)   2592714     concat_layer[0][0]               \n",
      "==================================================================================================\n",
      "Total params: 7,217,514\n",
      "Trainable params: 7,217,514\n",
      "Non-trainable params: 0\n",
      "__________________________________________________________________________________________________\n"
     ]
    }
   ],
   "source": [
    "from keras import backend as K \n",
    "K.clear_session()\n",
    "\n",
    "latent_dim = 300\n",
    "embedding_dim=100\n",
    "\n",
    "# Encoder\n",
    "encoder_inputs = Input(shape=(max_text_len,))\n",
    "\n",
    "#embedding layer\n",
    "enc_emb =  Embedding(x_voc, embedding_dim,trainable=True)(encoder_inputs)\n",
    "\n",
    "#encoder lstm 1\n",
    "encoder_lstm1 = LSTM(latent_dim,return_sequences=True,return_state=True,dropout=0.4,recurrent_dropout=0.4)\n",
    "encoder_output1, state_h1, state_c1 = encoder_lstm1(enc_emb)\n",
    "\n",
    "#encoder lstm 2\n",
    "encoder_lstm2 = LSTM(latent_dim,return_sequences=True,return_state=True,dropout=0.4,recurrent_dropout=0.4)\n",
    "encoder_output2, state_h2, state_c2 = encoder_lstm2(encoder_output1)\n",
    "\n",
    "#encoder lstm 3\n",
    "encoder_lstm3=LSTM(latent_dim, return_state=True, return_sequences=True,dropout=0.4,recurrent_dropout=0.4)\n",
    "encoder_outputs, state_h, state_c= encoder_lstm3(encoder_output2)\n",
    "\n",
    "# Set up the decoder, using `encoder_states` as initial state.\n",
    "decoder_inputs = Input(shape=(None,))\n",
    "\n",
    "#embedding layer\n",
    "dec_emb_layer = Embedding(y_voc, embedding_dim,trainable=True)\n",
    "dec_emb = dec_emb_layer(decoder_inputs)\n",
    "\n",
    "decoder_lstm = LSTM(latent_dim, return_sequences=True, return_state=True,dropout=0.4,recurrent_dropout=0.2)\n",
    "decoder_outputs,decoder_fwd_state, decoder_back_state = decoder_lstm(dec_emb,initial_state=[state_h, state_c])\n",
    "\n",
    "# Attention layer\n",
    "attn_layer = AttentionLayer(name='attention_layer')\n",
    "attn_out, attn_states = attn_layer([encoder_outputs, decoder_outputs])\n",
    "\n",
    "# Concat attention input and decoder LSTM output\n",
    "decoder_concat_input = Concatenate(axis=-1, name='concat_layer')([decoder_outputs, attn_out])\n",
    "\n",
    "#dense layer\n",
    "decoder_dense =  TimeDistributed(Dense(y_voc, activation='softmax'))\n",
    "decoder_outputs = decoder_dense(decoder_concat_input)\n",
    "\n",
    "# Define the model \n",
    "model = Model([encoder_inputs, decoder_inputs], decoder_outputs)\n",
    "\n",
    "model.summary()"
   ]
  },
  {
   "cell_type": "markdown",
   "metadata": {
    "id": "Q6MWrvlt8jrk"
   },
   "source": [
    "I am using sparse categorical cross-entropy as the loss function since it converts the integer sequence to a one-hot vector on the fly. This overcomes any memory issues."
   ]
  },
  {
   "cell_type": "code",
   "execution_count": 51,
   "metadata": {
    "id": "bZ5Hbh_Y8gGA"
   },
   "outputs": [],
   "source": [
    "model.compile(optimizer='rmsprop', loss='sparse_categorical_crossentropy')"
   ]
  },
  {
   "cell_type": "markdown",
   "metadata": {
    "id": "120rqztE8nL-"
   },
   "source": [
    "\n",
    "Remember the concept of early stopping? It is used to stop training the neural network at the right time by monitoring a user-specified metric. Here, I am monitoring the validation loss (val_loss). Our model will stop training once the validation loss increases:"
   ]
  },
  {
   "cell_type": "code",
   "execution_count": 52,
   "metadata": {
    "id": "aFNGXOrL8phP"
   },
   "outputs": [],
   "source": [
    "\n",
    "es = EarlyStopping(monitor='val_loss', mode='min', verbose=1,patience=2)"
   ]
  },
  {
   "cell_type": "markdown",
   "metadata": {
    "id": "azH2zKGQ8tjT"
   },
   "source": [
    "We’ll train the model on a batch size of 128 and validate it on the holdout set (which is 10% of our dataset):"
   ]
  },
  {
   "cell_type": "code",
   "execution_count": 53,
   "metadata": {
    "colab": {
     "base_uri": "https://localhost:8080/"
    },
    "id": "lOk9KDx68tTI",
    "outputId": "eecadd7b-d988-4762-e70b-f7b2ba00602b"
   },
   "outputs": [
    {
     "name": "stdout",
     "output_type": "stream",
     "text": [
      "Epoch 1/50\n",
      "1084/1084 [==============================] - 627s 568ms/step - loss: 1.3428 - val_loss: 1.0203\n",
      "Epoch 2/50\n",
      "1084/1084 [==============================] - 605s 558ms/step - loss: 0.9977 - val_loss: 0.9448\n",
      "Epoch 3/50\n",
      "1084/1084 [==============================] - 603s 556ms/step - loss: 0.9365 - val_loss: 0.9123\n",
      "Epoch 4/50\n",
      "1084/1084 [==============================] - 606s 559ms/step - loss: 0.9000 - val_loss: 0.8826\n",
      "Epoch 5/50\n",
      "1084/1084 [==============================] - 606s 559ms/step - loss: 0.8676 - val_loss: 0.8646\n",
      "Epoch 6/50\n",
      "1084/1084 [==============================] - 614s 566ms/step - loss: 0.8491 - val_loss: 0.8550\n",
      "Epoch 7/50\n",
      "1084/1084 [==============================] - 609s 562ms/step - loss: 0.8318 - val_loss: 0.8461\n",
      "Epoch 8/50\n",
      "1084/1084 [==============================] - 606s 559ms/step - loss: 0.8185 - val_loss: 0.8319\n",
      "Epoch 9/50\n",
      "1084/1084 [==============================] - 614s 567ms/step - loss: 0.8002 - val_loss: 0.8241\n",
      "Epoch 10/50\n",
      "1084/1084 [==============================] - 619s 572ms/step - loss: 0.7905 - val_loss: 0.8154\n",
      "Epoch 11/50\n",
      "1084/1084 [==============================] - 612s 565ms/step - loss: 0.7791 - val_loss: 0.8132\n",
      "Epoch 12/50\n",
      "1084/1084 [==============================] - 613s 566ms/step - loss: 0.7706 - val_loss: 0.8070\n",
      "Epoch 13/50\n",
      "1084/1084 [==============================] - 610s 563ms/step - loss: 0.7633 - val_loss: 0.8009\n",
      "Epoch 14/50\n",
      "1084/1084 [==============================] - 612s 565ms/step - loss: 0.7542 - val_loss: 0.8018\n",
      "Epoch 15/50\n",
      "1084/1084 [==============================] - 606s 559ms/step - loss: 0.7470 - val_loss: 0.7927\n",
      "Epoch 16/50\n",
      "1084/1084 [==============================] - 602s 555ms/step - loss: 0.7429 - val_loss: 0.7934\n",
      "Epoch 17/50\n",
      "1084/1084 [==============================] - 601s 554ms/step - loss: 0.7358 - val_loss: 0.7900\n",
      "Epoch 18/50\n",
      "1084/1084 [==============================] - 604s 557ms/step - loss: 0.7319 - val_loss: 0.7881\n",
      "Epoch 19/50\n",
      "1084/1084 [==============================] - 612s 565ms/step - loss: 0.7255 - val_loss: 0.7830\n",
      "Epoch 20/50\n",
      "1084/1084 [==============================] - 614s 566ms/step - loss: 0.7185 - val_loss: 0.7850\n",
      "Epoch 21/50\n",
      "1084/1084 [==============================] - 607s 560ms/step - loss: 0.7136 - val_loss: 0.7857\n",
      "Epoch 00021: early stopping\n"
     ]
    }
   ],
   "source": [
    "history=model.fit([x_tr,y_tr[:,:-1]], y_tr.reshape(y_tr.shape[0],y_tr.shape[1], 1)[:,1:] ,epochs=50,callbacks=[es],batch_size=128, validation_data=([x_val,y_val[:,:-1]], y_val.reshape(y_val.shape[0],y_val.shape[1], 1)[:,1:]))"
   ]
  },
  {
   "cell_type": "code",
   "execution_count": 54,
   "metadata": {
    "colab": {
     "base_uri": "https://localhost:8080/",
     "height": 265
    },
    "id": "Lzd3sI_HGf2v",
    "outputId": "c3701a6b-cb34-412e-9595-7261bcdda002"
   },
   "outputs": [
    {
     "data": {
      "image/png": "[encoded data removed]",
      "text/plain": [
       "<Figure size 432x288 with 1 Axes>"
      ]
     },
     "metadata": {
      "needs_background": "light",
      "tags": []
     },
     "output_type": "display_data"
    }
   ],
   "source": [
    "from matplotlib import pyplot\n",
    "pyplot.plot(history.history['loss'], label='train')\n",
    "pyplot.plot(history.history['val_loss'], label='test')\n",
    "pyplot.legend()\n",
    "pyplot.show()"
   ]
  },
  {
   "cell_type": "markdown",
   "metadata": {
    "id": "lOdbn1YkGmwI"
   },
   "source": [
    "\n",
    "From the plot, we can infer that validation loss has increased after epoch 19 for 2 successive epochs. Hence, training is stopped at epoch 21.\n",
    "\n",
    "Next, let’s build the dictionary to convert the index to word for target and source vocabulary:"
   ]
  },
  {
   "cell_type": "code",
   "execution_count": 55,
   "metadata": {
    "id": "m8SOiMDjGna4"
   },
   "outputs": [],
   "source": [
    "reverse_target_word_index=y_tokenizer.index_word\n",
    "reverse_source_word_index=x_tokenizer.index_word\n",
    "target_word_index=y_tokenizer.word_index"
   ]
  },
  {
   "cell_type": "markdown",
   "metadata": {
    "id": "iryhk5O5GqZo"
   },
   "source": [
    "\n",
    "# Inference\n",
    "Set up the inference for the encoder and decoder:"
   ]
  },
  {
   "cell_type": "code",
   "execution_count": 56,
   "metadata": {
    "id": "dhEKL4yQGtX7"
   },
   "outputs": [],
   "source": [
    "# Encode the input sequence to get the feature vector\n",
    "encoder_model = Model(inputs=encoder_inputs,outputs=[encoder_outputs, state_h, state_c])\n",
    "\n",
    "# Decoder setup\n",
    "# Below tensors will hold the states of the previous time step\n",
    "decoder_state_input_h = Input(shape=(latent_dim,))\n",
    "decoder_state_input_c = Input(shape=(latent_dim,))\n",
    "decoder_hidden_state_input = Input(shape=(max_text_len,latent_dim))\n",
    "\n",
    "# Get the embeddings of the decoder sequence\n",
    "dec_emb2= dec_emb_layer(decoder_inputs) \n",
    "# To predict the next word in the sequence, set the initial states to the states from the previous time step\n",
    "decoder_outputs2, state_h2, state_c2 = decoder_lstm(dec_emb2, initial_state=[decoder_state_input_h, decoder_state_input_c])\n",
    "\n",
    "#attention inference\n",
    "attn_out_inf, attn_states_inf = attn_layer([decoder_hidden_state_input, decoder_outputs2])\n",
    "decoder_inf_concat = Concatenate(axis=-1, name='concat')([decoder_outputs2, attn_out_inf])\n",
    "\n",
    "# A dense softmax layer to generate prob dist. over the target vocabulary\n",
    "decoder_outputs2 = decoder_dense(decoder_inf_concat) \n",
    "\n",
    "# Final decoder model\n",
    "decoder_model = Model(\n",
    "    [decoder_inputs] + [decoder_hidden_state_input,decoder_state_input_h, decoder_state_input_c],\n",
    "    [decoder_outputs2] + [state_h2, state_c2])"
   ]
  },
  {
   "cell_type": "markdown",
   "metadata": {
    "id": "aaCuFVGaGy_g"
   },
   "source": [
    "\n",
    "We are defining a function below which is the implementation of the inference process (which we covered here):"
   ]
  },
  {
   "cell_type": "code",
   "execution_count": 57,
   "metadata": {
    "id": "vUm-9AUHGxQN"
   },
   "outputs": [],
   "source": [
    "def decode_sequence(input_seq):\n",
    "    # Encode the input as state vectors.\n",
    "    e_out, e_h, e_c = encoder_model.predict(input_seq)\n",
    "    \n",
    "    # Generate empty target sequence of length 1.\n",
    "    target_seq = np.zeros((1,1))\n",
    "    \n",
    "    # Populate the first word of target sequence with the start word.\n",
    "    target_seq[0, 0] = target_word_index['sostok']\n",
    "\n",
    "    stop_condition = False\n",
    "    decoded_sentence = ''\n",
    "    while not stop_condition:\n",
    "      \n",
    "        output_tokens, h, c = decoder_model.predict([target_seq] + [e_out, e_h, e_c])\n",
    "\n",
    "        # Sample a token\n",
    "        sampled_token_index = np.argmax(output_tokens[0, -1, :])\n",
    "        sampled_token = reverse_target_word_index[sampled_token_index]\n",
    "        \n",
    "        if(sampled_token!='eostok'):\n",
    "            decoded_sentence += ' '+sampled_token\n",
    "\n",
    "        # Exit condition: either hit max length or find stop word.\n",
    "        if (sampled_token == 'eostok'  or len(decoded_sentence.split()) >= (max_summary_len-1)):\n",
    "            stop_condition = True\n",
    "\n",
    "        # Update the target sequence (of length 1).\n",
    "        target_seq = np.zeros((1,1))\n",
    "        target_seq[0, 0] = sampled_token_index\n",
    "\n",
    "        # Update internal states\n",
    "        e_h, e_c = h, c\n",
    "\n",
    "    return decoded_sentence"
   ]
  },
  {
   "cell_type": "markdown",
   "metadata": {
    "id": "Ai0626tRG3El"
   },
   "source": [
    "Let us define the functions to convert an integer sequence to a word sequence for summary as well as the reviews:"
   ]
  },
  {
   "cell_type": "code",
   "execution_count": 58,
   "metadata": {
    "id": "tpEqcVTNG5VT"
   },
   "outputs": [],
   "source": [
    "def seq2summary(input_seq):\n",
    "    newString=''\n",
    "    for i in input_seq:\n",
    "        if((i!=0 and i!=target_word_index['sostok']) and i!=target_word_index['eostok']):\n",
    "            newString=newString+reverse_target_word_index[i]+' '\n",
    "    return newString\n",
    "\n",
    "def seq2text(input_seq):\n",
    "    newString=''\n",
    "    for i in input_seq:\n",
    "        if(i!=0):\n",
    "            newString=newString+reverse_source_word_index[i]+' '\n",
    "    return newString"
   ]
  },
  {
   "cell_type": "markdown",
   "metadata": {
    "id": "5on-8Vx2G745"
   },
   "source": [
    "\n",
    "Here are a few summaries generated by the model:"
   ]
  },
  {
   "cell_type": "code",
   "execution_count": 59,
   "metadata": {
    "colab": {
     "base_uri": "https://localhost:8080/"
    },
    "id": "TsTesZtSG9qn",
    "outputId": "346ab86f-edc4-46ca-801d-174e9be6879c"
   },
   "outputs": [
    {
     "name": "stdout",
     "output_type": "stream",
     "text": [
      "Review: muir glen makes best canned tomatoes tasted ripe firm hold shape better canned tomatoes fire roasted ones delicious smoky flavour reminiscent hot paprika excellent recipe requiring little extra zing \n",
      "Original summary: the most canned tomatoes \n",
      "Predicted summary:  best canned food\n",
      "\n",
      "\n",
      "Review: yummy alternative crackers great everything chicken salad mores \n",
      "Original summary: delicious \n",
      "Predicted summary:  delicious\n",
      "\n",
      "\n",
      "Review: husband loves cheese snacks tried flavored ones prefers plain cheese ones handy take car brief case highly recommends \n",
      "Original summary: easy quick snack \n",
      "Predicted summary:  great snack\n",
      "\n",
      "\n",
      "Review: favorite green tea flavor bar none celestial seasonings good ones one tops list complaint celestial seasonings changed art box show amazon new picture nowhere near good \n",
      "Original summary: good stuff \n",
      "Predicted summary:  not the same as the original\n",
      "\n",
      "\n",
      "Review: since hard find picture laces store happy find could get online order painless sent right away thought shipping costs little high quality laces everything looking would order kenny \n",
      "Original summary: licorice \n",
      "Predicted summary:  great\n",
      "\n",
      "\n",
      "Review: give seems three dogs tell yes bit pricey smell appealing dogs love worth certainly seem listen better treats \n",
      "Original summary: give me more \n",
      "Predicted summary:  dogs love them\n",
      "\n",
      "\n",
      "Review: love tea drink every morning suppose benefits lowering blood pressure sure put little agave enjoy coffee get heart burn upset stomach \n",
      "Original summary: love this tea \n",
      "Predicted summary:  love this tea\n",
      "\n",
      "\n",
      "Review: nice big juicy flavor texture good sometimes stick together wish individually wrapped overall good product \n",
      "Original summary: good very tasty \n",
      "Predicted summary:  good flavor\n",
      "\n",
      "\n",
      "Review: think tried every bloody mary mixer market one time much sugar worst corn syrup mixer natural ingredients tasty little kick enjoy \n",
      "Original summary: best bloody mary mixer \n",
      "Predicted summary:  great taste\n",
      "\n",
      "\n",
      "Review: go anywhere without mints far convenient big altoids carry everywhere order case came fast reorder often \n",
      "Original summary: do not leave home without them \n",
      "Predicted summary:  love this mints\n",
      "\n",
      "\n",
      "Review: two lb powerful chewers love rings sit hours gnawing replace twice actually chewed ring sharp circle great holding paws chewing dangling mouth chew back teeth guy highly recommended \n",
      "Original summary: powerful chewers love these \n",
      "Predicted summary:  great toy\n",
      "\n",
      "\n",
      "Review: chai perfect perfect blend sweet little kick spice chai teas spice real flavor mild love much automatic order amazon every months \n",
      "Original summary: absolutely amazing \n",
      "Predicted summary:  best chai tea\n",
      "\n",
      "\n",
      "Review: say love peanuts love regular kinds filling tasty got one gumball machines filled love go \n",
      "Original summary: classic \n",
      "Predicted summary:  great\n",
      "\n",
      "\n",
      "Review: like product well really tangy hurt stomach little surprised picky eater yr olds ate sticks one sitting guess labeled kids \n",
      "Original summary: yr olds ate the entire box \n",
      "Predicted summary:  baby liked it but\n",
      "\n",
      "\n",
      "Review: delicious favorite flavor really taste like chocolate covered pretzels sugar per bar definitely worth money healthy snack \n",
      "Original summary: tastes like chocolate covered pretzels \n",
      "Predicted summary:  delicious\n",
      "\n",
      "\n",
      "Review: service dog loves treats large enough easily smaller pieces natural goes nuts \n",
      "Original summary: great treat for any dog \n",
      "Predicted summary:  dog loves them\n",
      "\n",
      "\n",
      "Review: bought almond flavor wow seriously best tasting wafer snacks ever tasted love cannot wait try flavors \n",
      "Original summary: best tasting wafers \n",
      "Predicted summary:  best tasting wafers\n",
      "\n",
      "\n",
      "Review: awesome good boot sure probably little much salt everything moderation right \n",
      "Original summary: wicked good \n",
      "Predicted summary:  wicked good\n",
      "\n",
      "\n",
      "Review: twisted fruit sweet taste kids love pop thier lunchbox feel good plus open package ease \n",
      "Original summary: good \n",
      "Predicted summary:  great snack\n",
      "\n",
      "\n",
      "Review: tried every brand stevia market hands best use nu naturals nustevia sweetening purposes hard find even health food stores ones carry usually charge premium delighted find amazon com reasonable price even less obtained standing order \n",
      "Original summary: perfectly naturally sweet \n",
      "Predicted summary:  great product\n",
      "\n",
      "\n",
      "Review: become big fan whole grain kashi cereals particular kashi bars bit dry dark chocolate coconut standby go granola bar dark chocolate icing soft coconut make bar decadent delight remaining reasonably healthy bar really tough beat \n",
      "Original summary: the best kashi fruit and grain bar easily \n",
      "Predicted summary:  my favorite\n",
      "\n",
      "\n",
      "Review: get best products company huge selection difficult find herbs fresh fragrant well preserved inexpensive cook \n",
      "Original summary: good products \n",
      "Predicted summary:  great quality\n",
      "\n",
      "\n",
      "Review: product adds flavor otherwise lack luster recipies low sodium diet must cost one gets return highly recommend product healthy delicious food get use product \n",
      "Original summary: healthy tasty \n",
      "Predicted summary:  excellent product\n",
      "\n",
      "\n",
      "Review: yep quite true never met carmel like admitted also say kraft caramels favorites perfect baking like tuck one lunch box school treat reservation wish would produce salted caramel really tasty \n",
      "Original summary: never met caramel did not like \n",
      "Predicted summary:  amazing\n",
      "\n",
      "\n",
      "Review: google coconut oil found great health based review gave nutiva try never regret smalls good put one jar little kitchen another one bathroom besides cooking use hair best ever loves \n",
      "Original summary: smells great works great \n",
      "Predicted summary:  great for cooking\n",
      "\n",
      "\n",
      "Review: mix tastes terrible waste money sad hard get good gluten free bread costs much average bread disappointed \n",
      "Original summary: terrible garbanzo bean aftertaste \n",
      "Predicted summary:  yuck\n",
      "\n",
      "\n",
      "Review: caramels arrived quickly soft unwrapped seems like fresh disappointed would bought known would fresh \n",
      "Original summary: caramels not fresh \n",
      "Predicted summary:  good\n",
      "\n",
      "\n",
      "Review: loacker products excellent expensive got bag deli corner st rd ave manhattan believe amazon use plus shipping rip \n",
      "Original summary: too expensive \n",
      "Predicted summary:  price\n",
      "\n",
      "\n",
      "Review: thought maybe employee dumped chewing tobacco mix spit mouth bad \n",
      "Original summary: tastes like chewing \n",
      "Predicted summary:  not good\n",
      "\n",
      "\n",
      "Review: ok cant quite explain reason girlfriend thinks tea greatest earl grey currently made ive actually bought years supply every christmas past years \n",
      "Original summary: great tea great company \n",
      "Predicted summary:  great tea\n",
      "\n",
      "\n",
      "Review: love cheap value pack even though tea seem help increase milk supply still like drinking since go bunch hated make trip specialty store every week large shipment amount low price happy \n",
      "Original summary: great value but have not seen an improvement \n",
      "Predicted summary:  great tea but cheaper at local store\n",
      "\n",
      "\n",
      "Review: household ferrero rocher go quickly quicker gourmet chocolate stuff good bucks bought cannot beat \n",
      "Original summary: chocolates \n",
      "Predicted summary:  great value\n",
      "\n",
      "\n",
      "Review: bought along salmon furikake reviewers right wasabi seasoning spicy still like though seasoning give tear inducing experience eating wasabi eat pre cooked brown rice healthy meal much better staple college students ramen noodles \n",
      "Original summary: good stuff \n",
      "Predicted summary:  wow\n",
      "\n",
      "\n",
      "Review: pack almond extract excellent value however bubble wrap packing material way flimsy first order completely smashed vendor extremely helpful getting replacement shipment \n",
      "Original summary: great value \n",
      "Predicted summary:  great product\n",
      "\n",
      "\n",
      "Review: buy office put candy machine brookstone partners love \n",
      "Original summary: love em \n",
      "Predicted summary:  love em\n",
      "\n",
      "\n",
      "Review: tastes great wife drink tea occasion regular grocery stores dont usually stock \n",
      "Original summary: taste \n",
      "Predicted summary:  great taste\n",
      "\n",
      "\n",
      "Review: awful love vanilla nuts looking forward tea tastes artificial medicine like price per box good compared store price certain stash flavors stores worth \n",
      "Original summary: decaf vanilla nut creme tea review \n",
      "Predicted summary:  too much sugar\n",
      "\n",
      "\n",
      "Review: month old pomeranian loves also handy since small treats break \n",
      "Original summary: my puppy loves these \n",
      "Predicted summary:  my dog loves these\n",
      "\n",
      "\n",
      "Review: great price excellent chip cents ounce bag bargain well tasty chip everyone let try impressed commented good taste yet find kettle chip disappointed \n",
      "Original summary: tasty \n",
      "Predicted summary:  great deal\n",
      "\n",
      "\n",
      "Review: live hawaii crave sourdough bread mix works well bread maker oven delicious flavor right texture subscribing future orders \n",
      "Original summary: great bread mix \n",
      "Predicted summary:  delicious bread\n",
      "\n",
      "\n",
      "Review: frequently eat popchips sandwich lunch avid weight watchers lifetime member enjoy without guilt weight watchers friendly love healthy alternative regular chips yet satisfy craving salty \n",
      "Original summary: healthy tasty and weight watchers friendly \n",
      "Predicted summary:  popchips\n",
      "\n",
      "\n",
      "Review: purchased past order tasted little stale purchased food many times first time disappointed quality returned \n",
      "Original summary: tasted funny \n",
      "Predicted summary:  stale\n",
      "\n",
      "\n",
      "Review: must say put life back dog old offers vitamins minerals getting food energy begs choco drops \n",
      "Original summary: is the best \n",
      "Predicted summary:  great for your dog\n",
      "\n",
      "\n",
      "Review: love dark chocolate recently decided eat sugar delighted find dark chocolate cordial cherries taste indistinguishable real thing course one must exercise consuming artificial sweeteners want dark chocolately treat really fill bill highly recommend \n",
      "Original summary: absolutely delicious \n",
      "Predicted summary:  delicious\n",
      "\n",
      "\n",
      "Review: enjoy chips got instead usual jalapeno ones company bit flavor change think better slightly like jalapenos great amount flavor without overpowering small bag size prevents overeating larger bag \n",
      "Original summary: quite good \n",
      "Predicted summary:  quite good\n",
      "\n",
      "\n",
      "Review: spread better nutella less sweet smooth peanut butter consistency unlike brand find sweet syrup like great cocoa flavor price great \n",
      "Original summary: smooth and delicious \n",
      "Predicted summary:  great taste\n",
      "\n",
      "\n",
      "Review: coffee surprisingly delicious never problem cups bursting maybe defect coffee brewer coffee bit less strong normally prefer coffee makes great taste look forward mug every morning would definitely recommend buy \n",
      "Original summary: yummy hazelnut \n",
      "Predicted summary:  delicious\n",
      "\n",
      "\n",
      "Review: chai latte far better designer drink get coffee shop absolutely hooked anyone friend mine facebook knows always cup chai latte begin writing day bears us \n",
      "Original summary: my absolutely favorite way to start the day \n",
      "Predicted summary:  love this chai\n",
      "\n",
      "\n",
      "Review: great tasting coffee exactly flavor says much flavor perfect great dessert coffee pleased purchase \n",
      "Original summary: yummy \n",
      "Predicted summary:  great coffee\n",
      "\n",
      "\n",
      "Review: cutting back carbs anywhere possibly tried every sugar free syrup one best thick tastes great butter flavor low carbs whether must watch sugar intake health reasons must try \n",
      "Original summary: it is the best \n",
      "Predicted summary:  great sugar free syrup\n",
      "\n",
      "\n",
      "Review: tried many different mint flavored teas bigelow tazo tea favorite mint strong enough play role opening sinuses relaxing \n",
      "Original summary: best mint tea by my \n",
      "Predicted summary:  best mint tea\n",
      "\n",
      "\n",
      "Review: olive oil potato chips hard find area delighted find quite reasonable price via amazon tasty crisp salted perfection sea salt heartily recommend give try disappointed \n",
      "Original summary: yum \n",
      "Predicted summary:  great chips\n",
      "\n",
      "\n",
      "Review: great gum place still buy glad find \n",
      "Original summary: gum \n",
      "Predicted summary:  great gum\n",
      "\n",
      "\n",
      "Review: even know start horrible texture grainy sweet flavor really chocolate live far store would back say overpriced would even try flavors yuck \n",
      "Original summary: omg yuck \n",
      "Predicted summary:  horrible\n",
      "\n",
      "\n",
      "Review: texture food like cooled pea soup stiff pate style foods cat likes veggies leaves veggies lot also good bit chicken surrounding makes waste willing tolerate buying spot stew \n",
      "Original summary: wish they would the veggies \n",
      "Predicted summary:  my cat loves it\n",
      "\n",
      "\n",
      "Review: love clever design keeps dogs busy quite perfect bored dogs cold december day \n",
      "Original summary: perfect \n",
      "Predicted summary:  great\n",
      "\n",
      "\n",
      "Review: basis diet using zesty italian little oil still get great taste \n",
      "Original summary: fantastic \n",
      "Predicted summary:  great product\n",
      "\n",
      "\n",
      "Review: asin pa green mountain coffee pumpkin spice cup packs keurig brewers count great flavor thought would drink cold winter months wrong great anytime \n",
      "Original summary: treat anytime of the year \n",
      "Predicted summary:  great flavor\n",
      "\n",
      "\n",
      "Review: male van picky litter ever since started using regularly one single accident surface box great litter great price \n",
      "Original summary: nice to have litter delivered to your door \n",
      "Predicted summary:  great for espresso\n",
      "\n",
      "\n",
      "Review: friend recommended buy month old could find grocery store ordered online amazon bit nervous order whole case great decision loves keep busy quiet sometimes minutes time awesome treat baby love organic \n",
      "Original summary: love them \n",
      "Predicted summary:  love these\n",
      "\n",
      "\n",
      "Review: pleasantly surprised thirst quenching love felt consuming product tea products left feeling strange afterwards tea grab certain great drink experience \n",
      "Original summary: what great tea experience \n",
      "Predicted summary:  great tea\n",
      "\n",
      "\n",
      "Review: love products love idea behind fact help animals cancer zukes president please \n",
      "Original summary: zukes \n",
      "Predicted summary:  my picky eater loves this\n",
      "\n",
      "\n",
      "Review: smell alone make salivate good comes rock sugar mixed ever use added sweeteners \n",
      "Original summary: delicious \n",
      "Predicted summary:  delicious\n",
      "\n",
      "\n",
      "Review: typically prefer espresso drink coffee beverages however laws bought keurig decided start drinking regular coffee enjoy breakfast blend rich smooth coffee without acidic make iced coffee get watered lose flavor \n",
      "Original summary: the best cup of coffee that have brewed at home \n",
      "Predicted summary:  great coffee\n",
      "\n",
      "\n",
      "Review: bad food worth increased price time find something different recommendations welcomed tired paying less \n",
      "Original summary: price went up and it wasnt worth the original price \n",
      "Predicted summary:  too expensive\n",
      "\n",
      "\n",
      "Review: parents sent care package deployed amazing much better nature bars \n",
      "Original summary: these are geat \n",
      "Predicted summary:  these are great\n",
      "\n",
      "\n",
      "Review: cereal new york city around box bought six pack ended paying around box def well worth purchase also love frosted shredded wheat \n",
      "Original summary: great price for cereal \n",
      "Predicted summary:  great cereal\n",
      "\n",
      "\n",
      "Review: treats fit lab treat ball could longer find local stores thank goodness amazon since prime members ship free get days deal \n",
      "Original summary: right size \n",
      "Predicted summary:  great product\n",
      "\n",
      "\n",
      "Review: taste weak improve coffee creamer sorry box dud wish could return \n",
      "Original summary: weak \n",
      "Predicted summary:  weak\n",
      "\n",
      "\n",
      "Review: far favorite olive excellent dips dressings \n",
      "Original summary: best olive oil ever \n",
      "Predicted summary:  best olive oil ever\n",
      "\n",
      "\n",
      "Review: box pomegranate blueberry pistachio antioxidants delicious kind bar products great choice balanced satisfying nutritious bar low sodium without gluten love kind bars definitely back pack boxes amazon great value \n",
      "Original summary: kind bars are the best \n",
      "Predicted summary:  great product\n",
      "\n",
      "\n",
      "Review: adopted dog rescue shelter allergy corn live small town found dog food contain mainly corn perfect new pet well loves added bonus comes straight door \n",
      "Original summary: for dogs with special needs \n",
      "Predicted summary:  healthy treat\n",
      "\n",
      "\n",
      "Review: two dogs quite expensive dingo habit always looking less expensive mini dingos great price ordering receipt product exceeded expectations \n",
      "Original summary: perfect \n",
      "Predicted summary:  great product\n",
      "\n",
      "\n",
      "Review: tried lots gf pastas favorite sure comments mushy come never problem advice best find store try buy packages worried \n",
      "Original summary: winner in our house \n",
      "Predicted summary:  best gf pasta\n",
      "\n",
      "\n",
      "Review: enjoy different foods regular salt regular shaker like spice things differently may \n",
      "Original summary: different \n",
      "Predicted summary:  good salt\n",
      "\n",
      "\n",
      "Review: good last drop wife drink weeks thats cups guess good guess get \n",
      "Original summary: great coffee \n",
      "Predicted summary:  good coffee\n",
      "\n",
      "\n",
      "Review: weight watcher leader recommend product members still points plus light crispy tasty many flavors great meal evening snack glad discovered \n",
      "Original summary: awesome snacking \n",
      "Predicted summary:  great snack\n",
      "\n",
      "\n",
      "Review: seeds hobby knife left water night placed moist paper inside ziplock bag days nearly sprouted \n",
      "Original summary: sprouted quickly \n",
      "Predicted summary:  not as described\n",
      "\n",
      "\n",
      "Review: dont much becuase makes poop day awesome detox sometimes makes nausous good tasts good \n",
      "Original summary: this works \n",
      "Predicted summary:  it works\n",
      "\n",
      "\n",
      "Review: although believe helps weight loss great flavor husband normally drink hot tea loves \n",
      "Original summary: good flavor \n",
      "Predicted summary:  great tea\n",
      "\n",
      "\n",
      "Review: better bowls sugar free instant chocolate pudding delicious diabetic celiac disease looking something sugar free without also gluten free difficult find better bowls fit needs perfectly delicious thank better bowls wonderful product \n",
      "Original summary: healthy and delicious \n",
      "Predicted summary:  great sugar free chocolate\n",
      "\n",
      "\n",
      "Review: wonderful texture great taste thank mrs weiss helping remember grandma cooking \n",
      "Original summary: almost as good as my grandma homemade noodles \n",
      "Predicted summary:  great\n",
      "\n",
      "\n",
      "Review: siberian loves food tried fish kind well orijen although cat loved taste smell enough keep away continue buy food kitty coat gorgeous hairballs compact stools kibble food love orijen \n",
      "Original summary: best food ever \n",
      "Predicted summary:  great food\n",
      "\n",
      "\n",
      "Review: used buy individual packages servings really glad find canister add coffee instead water morning make low carb high protein cafe mocha little diet taste bad sure stir thoroughly fork also add chocolate smoothies blender \n",
      "Original summary: great value \n",
      "Predicted summary:  great for protein\n",
      "\n",
      "\n",
      "Review: older lhasa apso fussy eater want dog foods rated good went line searched healthy food tried tried hills loves begs thank hills making great dog food \n",
      "Original summary: my dog loves it \n",
      "Predicted summary:  my dog loves this treat\n",
      "\n",
      "\n",
      "Review: wish noticed list ingredients purchased product cheese read ingredients msg bad ingredients besides cheese yuck throw taste great either \n",
      "Original summary: not that great \n",
      "Predicted summary:  not as good as the original\n",
      "\n",
      "\n",
      "Review: always make anything bake shopping costco one day saw product since chili night dinner thought would try great product today go get costco went line ordered love left great morning coffee \n",
      "Original summary: absolutely delicious \n",
      "Predicted summary:  great product\n",
      "\n",
      "\n",
      "Review: fairly expensive item kitty loves ofcourse plain old taste good eating treats \n",
      "Original summary: kitty loves \n",
      "Predicted summary:  cat loves these\n",
      "\n",
      "\n",
      "Review: sam sale thsi product per count purchase per count plus freight \n",
      "Original summary: cost to high \n",
      "Predicted summary:  price\n",
      "\n",
      "\n",
      "Review: favorite coffee like strongly flavored brew fills bill smokey flavor enhancement like \n",
      "Original summary: my favorite coffee \n",
      "Predicted summary:  love this coffee\n",
      "\n",
      "\n",
      "Review: tried several disc coffees sold tassimo feel coffee best tasting strong smooth bitter tasting \n",
      "Original summary: delicious non bitter coffee \n",
      "Predicted summary:  best coffee ever\n",
      "\n",
      "\n",
      "Review: buy item auto ship last order found inner package cereal properly sealed one corners open inches called kashi gave information box sent coupon replacement box good customer service buys stay amazon needs whatever \n",
      "Original summary: kashi customer service \n",
      "Predicted summary:  great product\n",
      "\n",
      "\n",
      "Review: best peanut butter ever crunchy wish came large size \n",
      "Original summary: skippy peanut butter \n",
      "Predicted summary:  great\n",
      "\n",
      "\n",
      "Review: replace starbucks caramel mocha get morning flavored coffee bp qt great replacement \n",
      "Original summary: saves stop to the gas station in the mornings \n",
      "Predicted summary:  coffee\n",
      "\n",
      "\n",
      "Review: still great reordered increase since may nuts product good wow good love place find stores changing versions something good change long shelf life never make \n",
      "Original summary: great but as of \n",
      "Predicted summary:  great product\n",
      "\n",
      "\n",
      "Review: product really goes well toddlers eat could give pediasure doubt even close organic product really got toddlers health track thanks orgain btw bought wegmans \n",
      "Original summary: great for picky toddlers with picky moms \n",
      "Predicted summary:  great product\n",
      "\n",
      "\n",
      "Review: ok quick meal found meat bit dry lacking flavor gravy ok potatoes ok bad good items line \n",
      "Original summary: ok not bad not great \n",
      "Predicted summary:  ok but not great\n",
      "\n",
      "\n",
      "Review: cups came bloated looking like inflated marshmallows even begin fit machine \n",
      "Original summary: cups \n",
      "Predicted summary:  cups\n",
      "\n",
      "\n",
      "Review: cats love whiskers temptation treats amazon place find five cats much convenient hairball gel \n",
      "Original summary: hairball treats \n",
      "Predicted summary:  cats love it\n",
      "\n",
      "\n",
      "Review: dog seems like better deer feed vet price half seems itching less \n",
      "Original summary: good stuff \n",
      "Predicted summary:  good dog food\n",
      "\n",
      "\n"
     ]
    }
   ],
   "source": [
    "\n",
    "for i in range(0,100):\n",
    "    print(\"Review:\",seq2text(x_tr[i]))\n",
    "    print(\"Original summary:\",seq2summary(y_tr[i]))\n",
    "    print(\"Predicted summary:\",decode_sequence(x_tr[i].reshape(1,max_text_len)))\n",
    "    print(\"\\n\")"
   ]
  }
 ],
 "metadata": {
  "accelerator": "GPU",
  "colab": {
   "name": "abstractive summarisation250k(lstm,attention).ipynb",
   "provenance": []
  },
  "kernelspec": {
   "display_name": "Python 3",
   "language": "python",
   "name": "python3"
  },
  "language_info": {
   "codemirror_mode": {
    "name": "ipython",
    "version": 3
   },
   "file_extension": ".py",
   "mimetype": "text/x-python",
   "name": "python",
   "nbconvert_exporter": "python",
   "pygments_lexer": "ipython3",
   "version": "3.8.5"
  }
 },
 "nbformat": 4,
 "nbformat_minor": 1
}
